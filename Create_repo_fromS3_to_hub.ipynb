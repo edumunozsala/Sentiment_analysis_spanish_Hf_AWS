{
 "cells": [
  {
   "cell_type": "code",
   "execution_count": 1,
   "id": "845d8de1",
   "metadata": {},
   "outputs": [
    {
     "name": "stdout",
     "output_type": "stream",
     "text": [
      "Detected operating system as amzn/2.\n",
      "Checking for curl...\n",
      "Detected curl...\n",
      "Downloading repository file: https://packagecloud.io/install/repositories/github/git-lfs/config_file.repo?os=amzn&dist=2&source=script\n",
      "done.\n",
      "Installing pygpgme to verify GPG signatures...\n",
      "Loaded plugins: dkms-build-requires, extras_suggestions, langpacks, priorities,\n",
      "              : update-motd, versionlock\n",
      "amzn2-core                                               | 3.7 kB     00:00     \n",
      "github_git-lfs-source/signature                          |  833 B     00:00     \n",
      "Retrieving key from https://packagecloud.io/github/git-lfs/gpgkey\n",
      "Importing GPG key 0xDC282033:\n",
      " Userid     : \"https://packagecloud.io/github/git-lfs (https://packagecloud.io/docs#gpg_signing) <support@packagecloud.io>\"\n",
      " Fingerprint: 6d39 8dbd 30dd 7894 1e2c 4797 fe2a 5f8b dc28 2033\n",
      " From       : https://packagecloud.io/github/git-lfs/gpgkey\n",
      "github_git-lfs-source/signature                          | 1.8 kB     00:00 !!! \n",
      "neuron                                                   | 2.9 kB     00:00     \n",
      "github_git-lfs-source/primary                              | 4.8 kB   00:00     \n",
      "github_git-lfs-source                                                     45/45\n",
      "Package pygpgme-0.3-9.amzn2.0.3.x86_64 already installed and latest version\n",
      "Nothing to do\n",
      "Installing yum-utils...\n",
      "Loaded plugins: dkms-build-requires, extras_suggestions, langpacks, priorities,\n",
      "              : update-motd, versionlock\n",
      "neuron                                                   | 2.9 kB     00:00     \n",
      "Package yum-utils-1.1.31-46.amzn2.0.1.noarch already installed and latest version\n",
      "Nothing to do\n",
      "Generating yum cache for github_git-lfs...\n",
      "Importing GPG key 0xDC282033:\n",
      " Userid     : \"https://packagecloud.io/github/git-lfs (https://packagecloud.io/docs#gpg_signing) <support@packagecloud.io>\"\n",
      " Fingerprint: 6d39 8dbd 30dd 7894 1e2c 4797 fe2a 5f8b dc28 2033\n",
      " From       : https://packagecloud.io/github/git-lfs/gpgkey\n",
      "Generating yum cache for github_git-lfs-source...\n",
      "\n",
      "The repository is setup! You can now install packages.\n",
      "Loaded plugins: dkms-build-requires, extras_suggestions, langpacks, priorities,\n",
      "              : update-motd, versionlock\n",
      "neuron                                                   | 2.9 kB     00:00     \n",
      "Resolving Dependencies\n",
      "--> Running transaction check\n",
      "---> Package git-lfs.x86_64 0:3.0.2-1.el7 will be installed\n",
      "--> Finished Dependency Resolution\n",
      "\n",
      "Dependencies Resolved\n",
      "\n",
      "================================================================================\n",
      " Package        Arch          Version               Repository             Size\n",
      "================================================================================\n",
      "Installing:\n",
      " git-lfs        x86_64        3.0.2-1.el7           github_git-lfs        3.2 M\n",
      "\n",
      "Transaction Summary\n",
      "================================================================================\n",
      "Install  1 Package\n",
      "\n",
      "Total download size: 3.2 M\n",
      "Installed size: 9.9 M\n",
      "Downloading packages:\n",
      "git-lfs-3.0.2-1.el7.x86_64.rpm                             | 3.2 MB   00:00     \n",
      "Running transaction check\n",
      "Running transaction test\n",
      "Transaction test succeeded\n",
      "Running transaction\n",
      "Warning: RPMDB altered outside of yum.\n",
      "  Installing : git-lfs-3.0.2-1.el7.x86_64                                   1/1 \n",
      "Git LFS initialized.\n",
      "  Verifying  : git-lfs-3.0.2-1.el7.x86_64                                   1/1 \n",
      "\n",
      "Installed:\n",
      "  git-lfs.x86_64 0:3.0.2-1.el7                                                  \n",
      "\n",
      "Complete!\n",
      "Git LFS initialized.\n"
     ]
    }
   ],
   "source": [
    "!curl -s https://packagecloud.io/install/repositories/github/git-lfs/script.rpm.sh | sudo bash\n",
    "!sudo yum install git-lfs -y\n",
    "!git lfs install"
   ]
  },
  {
   "cell_type": "code",
   "execution_count": 2,
   "id": "09abd041",
   "metadata": {},
   "outputs": [],
   "source": [
    "# Define the my final model name\n",
    "mymodel_name='RuPERTa_base_sentiment_analysis_es'\n",
    "local_path = mymodel_name"
   ]
  },
  {
   "cell_type": "code",
   "execution_count": 4,
   "id": "49a2346d",
   "metadata": {},
   "outputs": [
    {
     "name": "stdout",
     "output_type": "stream",
     "text": [
      "2.68.0\n",
      "sagemaker role arn: arn:aws:iam::223817798831:role/workshop-sagemaker-kfp-role\n",
      "sagemaker bucket: edumunozsala-ml-sagemaker\n",
      "sagemaker session region: us-east-1\n"
     ]
    }
   ],
   "source": [
    "import sagemaker\n",
    "print(sagemaker.__version__)\n",
    "\n",
    "# Specify your bucket name\n",
    "bucket_name = 'edumunozsala-ml-sagemaker'\n",
    "\n",
    "sess = sagemaker.Session()\n",
    "# sagemaker session bucket -> used for uploading data, models and logs\n",
    "# sagemaker will automatically create this bucket if it not exists\n",
    "# Specify your bucket name\n",
    "sagemaker_session_bucket= bucket_name\n",
    "if sagemaker_session_bucket is None and sess is not None:\n",
    "    # set to default bucket if a bucket name is not given\n",
    "    sagemaker_session_bucket = sess.default_bucket()\n",
    "\n",
    "role = sagemaker.get_execution_role()\n",
    "sess = sagemaker.Session(default_bucket=sagemaker_session_bucket)\n",
    "region = sess.boto_session.region_name\n",
    "\n",
    "print(f\"sagemaker role arn: {role}\")\n",
    "print(f\"sagemaker bucket: {sess.default_bucket()}\")\n",
    "print(f\"sagemaker session region: {sess.boto_region_name}\")"
   ]
  },
  {
   "cell_type": "code",
   "execution_count": 14,
   "id": "039e25a8",
   "metadata": {},
   "outputs": [],
   "source": [
    "import os\n",
    "import tarfile\n",
    "from sagemaker.s3 import S3Downloader\n",
    "\n",
    "local_path = mymodel_name\n",
    "model_data= 's3://edumunozsala-ml-sagemaker/ruperta-sentiment/ruperta-sentiment-analysis-single-gpu-2021-12-05-18-51-02/output/'\n",
    "\n",
    "os.makedirs(local_path, exist_ok = True)"
   ]
  },
  {
   "cell_type": "code",
   "execution_count": 7,
   "id": "3e8c9dc7",
   "metadata": {},
   "outputs": [
    {
     "name": "stdout",
     "output_type": "stream",
     "text": [
      "Enter your password:········\n"
     ]
    }
   ],
   "source": [
    "from getpass import getpass\n",
    "\n",
    "hf_username = \"edumunozsala\" # your username on huggingface.co\n",
    "hf_email = \"edumunozsala@gmail.com\" # email used for commit\n",
    "repository_name = mymodel_name\n",
    "password = getpass(\"Enter your password:\") # creates a prompt for entering password"
   ]
  },
  {
   "cell_type": "code",
   "execution_count": 15,
   "id": "0977be9d",
   "metadata": {},
   "outputs": [
    {
     "data": {
      "text/plain": [
       "('RuPERTa_base_sentiment_analysis_es', 'RuPERTa_base_sentiment_analysis_es')"
      ]
     },
     "execution_count": 15,
     "metadata": {},
     "output_type": "execute_result"
    }
   ],
   "source": [
    "repository_name,  local_path"
   ]
  },
  {
   "cell_type": "code",
   "execution_count": 9,
   "id": "c03796a4",
   "metadata": {},
   "outputs": [
    {
     "name": "stderr",
     "output_type": "stream",
     "text": [
      "ERROR:root:HfApi.login: This method is deprecated in favor of `set_access_token`.\n"
     ]
    }
   ],
   "source": [
    "from huggingface_hub import HfApi, Repository\n",
    "\n",
    "# get hf token\n",
    "token = HfApi().login(username=hf_username, password=password)"
   ]
  },
  {
   "cell_type": "code",
   "execution_count": 10,
   "id": "dcc4c6c1",
   "metadata": {},
   "outputs": [
    {
     "data": {
      "text/plain": [
       "'fyBjORyHzEbmVyQEcZbnTFQprgqtKaYaqIlRdflgjbFMyNgcjLRUfwVbstmoheLJOErmSOdGDlmOWUjNadXfHmizpdKpYVASPSWvJKthJdoCjUxOQqiwHMMcCvzgJscj'"
      ]
     },
     "execution_count": 10,
     "metadata": {},
     "output_type": "execute_result"
    }
   ],
   "source": [
    "token"
   ]
  },
  {
   "cell_type": "code",
   "execution_count": 16,
   "id": "dbf671d7",
   "metadata": {},
   "outputs": [],
   "source": [
    "# create repository\n",
    "repo_url = HfApi().create_repo(token=token, name=repository_name, exist_ok=True)"
   ]
  },
  {
   "cell_type": "code",
   "execution_count": 17,
   "id": "96f639f4",
   "metadata": {},
   "outputs": [
    {
     "data": {
      "text/plain": [
       "'https://huggingface.co/edumunozsala/RuPERTa_base_sentiment_analysis_es'"
      ]
     },
     "execution_count": 17,
     "metadata": {},
     "output_type": "execute_result"
    }
   ],
   "source": [
    "repo_url"
   ]
  },
  {
   "cell_type": "code",
   "execution_count": 18,
   "id": "183135be",
   "metadata": {},
   "outputs": [
    {
     "name": "stderr",
     "output_type": "stream",
     "text": [
      "Cloning https://huggingface.co/edumunozsala/RuPERTa_base_sentiment_analysis_es into local empty directory.\n",
      "WARNING:huggingface_hub.repository:Cloning https://huggingface.co/edumunozsala/RuPERTa_base_sentiment_analysis_es into local empty directory.\n"
     ]
    }
   ],
   "source": [
    "# create a Repository instance\n",
    "model_repo = Repository(use_auth_token=token,\n",
    "                        clone_from=repo_url,\n",
    "                        local_dir=local_path,\n",
    "                        git_user=hf_username,\n",
    "                        git_email=hf_email)"
   ]
  },
  {
   "cell_type": "code",
   "execution_count": 19,
   "id": "e705b6d5",
   "metadata": {},
   "outputs": [],
   "source": [
    "# download model from S3\n",
    "S3Downloader.download(\n",
    "    s3_uri=model_data, # s3 uri where the trained model is located\n",
    "    local_path=local_path, # local path where *.tar.gz will be saved\n",
    "    sagemaker_session=sess # sagemaker session used for training the model\n",
    ")\n",
    "\n",
    "# unzip model\n",
    "tar = tarfile.open(f\"{local_path}/model.tar.gz\", \"r:gz\")\n",
    "tar.extractall(path=local_path)\n",
    "tar.close()\n",
    "os.remove(f\"{local_path}/model.tar.gz\")"
   ]
  },
  {
   "cell_type": "code",
   "execution_count": 20,
   "id": "f0eddbb4",
   "metadata": {},
   "outputs": [
    {
     "data": {
      "application/vnd.jupyter.widget-view+json": {
       "model_id": "00bc5a1722b04d928143813fb1b48b71",
       "version_major": 2,
       "version_minor": 0
      },
      "text/plain": [
       "Upload file checkpoint-1329/optimizer.pt:   0%|          | 32.0k/961M [00:00<?, ?B/s]"
      ]
     },
     "metadata": {},
     "output_type": "display_data"
    },
    {
     "data": {
      "application/vnd.jupyter.widget-view+json": {
       "model_id": "3e34b6088fde4376ba32fbb3c10afd75",
       "version_major": 2,
       "version_minor": 0
      },
      "text/plain": [
       "Upload file checkpoint-1329/scaler.pt: 100%|##########| 559/559 [00:00<?, ?B/s]"
      ]
     },
     "metadata": {},
     "output_type": "display_data"
    },
    {
     "data": {
      "application/vnd.jupyter.widget-view+json": {
       "model_id": "443132c9047b47f0ba6d17dedce2f774",
       "version_major": 2,
       "version_minor": 0
      },
      "text/plain": [
       "Upload file checkpoint-1329/pytorch_model.bin:   0%|          | 32.0k/481M [00:00<?, ?B/s]"
      ]
     },
     "metadata": {},
     "output_type": "display_data"
    },
    {
     "data": {
      "application/vnd.jupyter.widget-view+json": {
       "model_id": "8d8a35e34b834d21a9668687abec202e",
       "version_major": 2,
       "version_minor": 0
      },
      "text/plain": [
       "Upload file checkpoint-1329/rng_state.pth: 100%|##########| 14.3k/14.3k [00:00<?, ?B/s]"
      ]
     },
     "metadata": {},
     "output_type": "display_data"
    },
    {
     "data": {
      "application/vnd.jupyter.widget-view+json": {
       "model_id": "98eccff6ceb8475e9158b8466f1c17b3",
       "version_major": 2,
       "version_minor": 0
      },
      "text/plain": [
       "Upload file checkpoint-1329/training_args.bin: 100%|##########| 2.36k/2.36k [00:00<?, ?B/s]"
      ]
     },
     "metadata": {},
     "output_type": "display_data"
    },
    {
     "data": {
      "application/vnd.jupyter.widget-view+json": {
       "model_id": "dc38680123424a9ebf3f96717460c854",
       "version_major": 2,
       "version_minor": 0
      },
      "text/plain": [
       "Upload file checkpoint-1329/scheduler.pt: 100%|##########| 623/623 [00:00<?, ?B/s]"
      ]
     },
     "metadata": {},
     "output_type": "display_data"
    },
    {
     "data": {
      "application/vnd.jupyter.widget-view+json": {
       "model_id": "f76b2e8fd28241268f1f2e1d8e83642f",
       "version_major": 2,
       "version_minor": 0
      },
      "text/plain": [
       "Upload file output.tar.gz: 100%|##########| 302/302 [00:00<?, ?B/s]"
      ]
     },
     "metadata": {},
     "output_type": "display_data"
    },
    {
     "name": "stderr",
     "output_type": "stream",
     "text": [
      "To https://huggingface.co/edumunozsala/RuPERTa_base_sentiment_analysis_es\n",
      "   97737b2..0d59578  main -> main\n",
      "\n",
      "WARNING:huggingface_hub.repository:To https://huggingface.co/edumunozsala/RuPERTa_base_sentiment_analysis_es\n",
      "   97737b2..0d59578  main -> main\n",
      "\n"
     ]
    },
    {
     "data": {
      "text/plain": [
       "'https://huggingface.co/edumunozsala/RuPERTa_base_sentiment_analysis_es/commit/0d59578afe01a669da4e1af0bcd7022a00acf865'"
      ]
     },
     "execution_count": 20,
     "metadata": {},
     "output_type": "execute_result"
    }
   ],
   "source": [
    "# push model to the hub\n",
    "model_repo.push_to_hub()"
   ]
  },
  {
   "cell_type": "code",
   "execution_count": null,
   "id": "a24b02ed",
   "metadata": {},
   "outputs": [],
   "source": []
  }
 ],
 "metadata": {
  "kernelspec": {
   "display_name": "conda_pytorch_p37",
   "language": "python",
   "name": "conda_pytorch_p37"
  },
  "language_info": {
   "codemirror_mode": {
    "name": "ipython",
    "version": 3
   },
   "file_extension": ".py",
   "mimetype": "text/x-python",
   "name": "python",
   "nbconvert_exporter": "python",
   "pygments_lexer": "ipython3",
   "version": "3.7.10"
  }
 },
 "nbformat": 4,
 "nbformat_minor": 5
}
